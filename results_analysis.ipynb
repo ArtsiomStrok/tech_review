{
 "cells": [
  {
   "cell_type": "markdown",
   "metadata": {},
   "source": [
    "# Loading 'GOLD' answers"
   ]
  },
  {
   "cell_type": "code",
   "execution_count": 29,
   "metadata": {},
   "outputs": [],
   "source": [
    "import json\n",
    "\n",
    "with open('resumes.json') as fp: \n",
    "    for line in fp: \n",
    "        doc_json = json.loads(line)\n",
    "        for e in doc_json['annotation']:\n",
    "            if len(e['label']) > 1:\n",
    "                print(e)"
   ]
  },
  {
   "cell_type": "code",
   "execution_count": 35,
   "metadata": {},
   "outputs": [],
   "source": [
    "with open('resumes.json') as fp: \n",
    "    for line in fp: \n",
    "        doc_json = json.loads(line)\n",
    "        for e in doc_json['annotation']:\n",
    "            if len(e['points']) > 1:\n",
    "                print(e)"
   ]
  },
  {
   "cell_type": "code",
   "execution_count": 42,
   "metadata": {},
   "outputs": [],
   "source": [
    "def map_entity(e):\n",
    "    l = e['label'][0]\n",
    "    m = 'O'\n",
    "    if l in ['Companies worked at', 'College Name']:\n",
    "        m = 'ORG'\n",
    "    elif l in ['Location']:\n",
    "        m = 'LOC'\n",
    "    elif l in ['Name']:\n",
    "        m = 'PER'\n",
    "    e['label'] = m\n",
    "    e['value'] = e['points'][0].pop('text')\n",
    "    e.pop('points')\n",
    "    return e\n",
    "\n",
    "target_labels = ['Companies worked at', 'College Name', 'Location', 'Name']\n",
    "answers_gold = []\n",
    "with open('resumes.json') as fp: \n",
    "    for line in fp: \n",
    "        doc_json = json.loads(line)\n",
    "        answers_gold.append([map_entity(e) for e in doc_json['annotation'] if len(e['label']) > 0 and e['label'][0] in target_labels])"
   ]
  },
  {
   "cell_type": "code",
   "execution_count": 43,
   "metadata": {},
   "outputs": [
    {
     "data": {
      "text/plain": [
       "[{'label': 'ORG', 'value': 'Kendriya Vidyalaya'},\n",
       " {'label': 'ORG', 'value': 'Woodbine modern school'},\n",
       " {'label': 'ORG', 'value': 'B.v.b college of engineering and technology'},\n",
       " {'label': 'ORG', 'value': 'Accenture'},\n",
       " {'label': 'LOC', 'value': 'Bengaluru'},\n",
       " {'label': 'ORG', 'value': 'Accenture'},\n",
       " {'label': 'PER', 'value': 'Abhishek Jha'}]"
      ]
     },
     "execution_count": 43,
     "metadata": {},
     "output_type": "execute_result"
    }
   ],
   "source": [
    "answers_gold[0]"
   ]
  },
  {
   "cell_type": "markdown",
   "metadata": {},
   "source": [
    "# Loading Azure answers"
   ]
  },
  {
   "cell_type": "code",
   "execution_count": 131,
   "metadata": {},
   "outputs": [],
   "source": [
    "answers_azure = []\n",
    "\n",
    "def map_entity_azure(e):\n",
    "    l = e.pop('category')\n",
    "    m = 'O'\n",
    "    if l in ['Organization']:\n",
    "        m = 'ORG'\n",
    "    elif l in ['Location']:\n",
    "        m = 'LOC'\n",
    "    elif l in ['Person']:\n",
    "        m = 'PER'\n",
    "    e['label'] = m\n",
    "    e['value'] = e.pop('text')\n",
    "    #e['score'] = e.pop('confidence_score')\n",
    "    e.pop('confidence_score')\n",
    "    return e\n",
    "\n",
    "for i in range(0, 220):\n",
    "    with open('results/azure/' + str(i) + '.json') as fp: \n",
    "        doc_json = json.load(fp)\n",
    "        answers_azure.append([map_entity_azure(e) for e in doc_json['entities'] if e['category'] in ['Person', 'Organization', 'Location']])"
   ]
  },
  {
   "cell_type": "code",
   "execution_count": 52,
   "metadata": {},
   "outputs": [
    {
     "data": {
      "text/plain": [
       "[{'label': 'PER', 'value': 'Abhishek Jha', 'score': 0.7},\n",
       " {'label': 'LOC', 'value': 'Karnataka', 'score': 0.36},\n",
       " {'label': 'LOC', 'value': 'Bangalore', 'score': 0.56},\n",
       " {'label': 'LOC', 'value': 'Karnataka', 'score': 0.46},\n",
       " {'label': 'LOC', 'value': 'Hubli', 'score': 0.37},\n",
       " {'label': 'LOC', 'value': 'Karnataka', 'score': 0.61}]"
      ]
     },
     "execution_count": 52,
     "metadata": {},
     "output_type": "execute_result"
    }
   ],
   "source": [
    "answers_azure[0]"
   ]
  },
  {
   "cell_type": "markdown",
   "metadata": {},
   "source": [
    "# Loading Amazon answers"
   ]
  },
  {
   "cell_type": "code",
   "execution_count": 132,
   "metadata": {},
   "outputs": [],
   "source": [
    "answers_amazon = []\n",
    "\n",
    "def map_entity_amazon(e):\n",
    "    l = e.pop('Type')\n",
    "    m = 'O'\n",
    "    if l in ['ORGANIZATION']:\n",
    "        m = 'ORG'\n",
    "    elif l in ['LOCATION']:\n",
    "        m = 'LOC'\n",
    "    elif l in ['PERSON']:\n",
    "        m = 'PER'\n",
    "    e['label'] = m\n",
    "    e['value'] = e.pop('Text')\n",
    "    e.pop('BeginOffset')\n",
    "    e.pop('EndOffset')\n",
    "    #e['score'] = e.pop('Score')\n",
    "    e.pop('Score')\n",
    "    return e\n",
    "\n",
    "\n",
    "for i in range(0, 220):\n",
    "    with open('results/amazon/' + str(i) + '.json') as fp: \n",
    "        doc_json = json.load(fp)\n",
    "        answers_amazon.append([map_entity_amazon(e) for e in doc_json['Entities'] if e['Type'] in ['PERSON', 'ORGANIZATION', 'LOCATION']])"
   ]
  },
  {
   "cell_type": "code",
   "execution_count": 54,
   "metadata": {},
   "outputs": [
    {
     "data": {
      "text/plain": [
       "[{'label': 'PER', 'value': 'Abhishek Jha', 'score': 0.9486192464828491},\n",
       " {'label': 'LOC',\n",
       "  'value': 'Bengaluru, Karnataka',\n",
       "  'score': 0.9599717259407043},\n",
       " {'label': 'LOC',\n",
       "  'value': 'Bangalore, Karnataka',\n",
       "  'score': 0.9642154574394226},\n",
       " {'label': 'ORG', 'value': 'Oracle', 'score': 0.9414703249931335},\n",
       " {'label': 'LOC', 'value': 'Hubli, Karnataka', 'score': 0.8884904980659485},\n",
       " {'label': 'ORG', 'value': 'Woodbine', 'score': 0.6772867441177368},\n",
       " {'label': 'ORG', 'value': 'Kendriya Vidyalaya', 'score': 0.6634066104888916}]"
      ]
     },
     "execution_count": 54,
     "metadata": {},
     "output_type": "execute_result"
    }
   ],
   "source": [
    "answers_amazon[0]"
   ]
  },
  {
   "cell_type": "markdown",
   "metadata": {},
   "source": [
    "# Loading Google answers"
   ]
  },
  {
   "cell_type": "code",
   "execution_count": 133,
   "metadata": {},
   "outputs": [],
   "source": [
    "answers_google = []\n",
    "\n",
    "def map_entity_google(e):\n",
    "    l = e.pop('type')\n",
    "    m = 'O'\n",
    "    if l in ['ORGANIZATION']:\n",
    "        m = 'ORG'\n",
    "    elif l in ['LOCATION']:\n",
    "        m = 'LOC'\n",
    "    elif l in ['PERSON']:\n",
    "        m = 'PER'\n",
    "    e['label'] = m\n",
    "    e['value'] = e.pop('name')\n",
    "    #e['score'] = e.pop('salience')\n",
    "    e.pop('salience')\n",
    "    return e\n",
    "\n",
    "\n",
    "for i in range(0, 220):\n",
    "    with open('results/google/' + str(i) + '.json') as fp: \n",
    "        doc_json = json.load(fp)\n",
    "        answers_google.append([map_entity_google(e) for e in doc_json['entities'] if e['type'] in ['PERSON', 'ORGANIZATION', 'LOCATION']])"
   ]
  },
  {
   "cell_type": "code",
   "execution_count": 105,
   "metadata": {},
   "outputs": [
    {
     "data": {
      "text/plain": [
       "[{'label': 'ORG', 'value': 'organization'},\n",
       " {'label': 'ORG', 'value': 'Accenture'},\n",
       " {'label': 'PER', 'value': 'Abhishek Jha Application Development Associate'},\n",
       " {'label': 'ORG', 'value': 'Bot'},\n",
       " {'label': 'LOC', 'value': 'Karnataka'},\n",
       " {'label': 'LOC', 'value': 'Bengaluru'},\n",
       " {'label': 'ORG', 'value': 'company'},\n",
       " {'label': 'PER', 'value': 'individual'},\n",
       " {'label': 'ORG', 'value': 'PeopleSoft'},\n",
       " {'label': 'ORG', 'value': 'Oracle'},\n",
       " {'label': 'PER', 'value': 'user'},\n",
       " {'label': 'ORG', 'value': 'school'},\n",
       " {'label': 'ORG', 'value': 'B.E'},\n",
       " {'label': 'ORG', 'value': 'B.v.b'},\n",
       " {'label': 'LOC', 'value': 'Hubli'},\n",
       " {'label': 'ORG', 'value': 'Kendriya Vidyalaya'},\n",
       " {'label': 'PER', 'value': 'Player'},\n",
       " {'label': 'ORG', 'value': 'Calm'}]"
      ]
     },
     "execution_count": 105,
     "metadata": {},
     "output_type": "execute_result"
    }
   ],
   "source": [
    "answers_google[0]"
   ]
  },
  {
   "cell_type": "markdown",
   "metadata": {},
   "source": [
    "# Loading SpaCy answers"
   ]
  },
  {
   "cell_type": "code",
   "execution_count": 134,
   "metadata": {},
   "outputs": [],
   "source": [
    "answers_spacy = []\n",
    "\n",
    "def map_entity_spacy(e):\n",
    "    l = e.pop('category')\n",
    "    m = 'O'\n",
    "    if l in ['ORG']:\n",
    "        m = 'ORG'\n",
    "    elif l in ['GPE', 'LOC']:\n",
    "        m = 'LOC'\n",
    "    elif l in ['PERSON']:\n",
    "        m = 'PER'\n",
    "    e['label'] = m\n",
    "    e['value'] = e.pop('text')\n",
    "    e.pop('start')\n",
    "    e.pop('end')\n",
    "    return e\n",
    "\n",
    "\n",
    "for i in range(0, 220):\n",
    "    with open('results/spacy/' + str(i) + '.json') as fp: \n",
    "        doc_json = json.load(fp)\n",
    "        answers_spacy.append([map_entity_spacy(e) for e in doc_json['entities'] if e['category'] in ['PERSON', 'ORG', 'GPE', 'LOC']])"
   ]
  },
  {
   "cell_type": "code",
   "execution_count": 67,
   "metadata": {},
   "outputs": [
    {
     "data": {
      "text/plain": [
       "[{'label': 'PER', 'value': 'Abhishek Jha'},\n",
       " {'label': 'ORG', 'value': 'Application Development Associate - Accenture'},\n",
       " {'label': 'LOC', 'value': 'Bengaluru'},\n",
       " {'label': 'ORG', 'value': 'Karnataka - Email'},\n",
       " {'label': 'LOC', 'value': 'Bangalore'},\n",
       " {'label': 'LOC', 'value': 'Karnataka'},\n",
       " {'label': 'ORG', 'value': 'Application Development'},\n",
       " {'label': 'ORG', 'value': 'Accenture'},\n",
       " {'label': 'ORG', 'value': 'PeopleSoft'},\n",
       " {'label': 'LOC', 'value': 'Karnataka'},\n",
       " {'label': 'ORG', 'value': 'Woodbine'},\n",
       " {'label': 'PER', 'value': 'Kendriya Vidyalaya'},\n",
       " {'label': 'ORG', 'value': 'Database Management'},\n",
       " {'label': 'ORG', 'value': 'Database Management System'},\n",
       " {'label': 'ORG', 'value': 'Java'},\n",
       " {'label': 'ORG', 'value': 'PeopleSoft'},\n",
       " {'label': 'ORG', 'value': 'Mac'},\n",
       " {'label': 'ORG', 'value': 'Hard-Working'}]"
      ]
     },
     "execution_count": 67,
     "metadata": {},
     "output_type": "execute_result"
    }
   ],
   "source": [
    "answers_spacy[0]"
   ]
  },
  {
   "cell_type": "markdown",
   "metadata": {},
   "source": [
    "# Loading Stanford answers"
   ]
  },
  {
   "cell_type": "code",
   "execution_count": 135,
   "metadata": {},
   "outputs": [],
   "source": [
    "answers_stanford = []\n",
    "\n",
    "def map_entity_stanford(e):\n",
    "    l = e.pop('category')\n",
    "    m = 'O'\n",
    "    if l in ['ORGANIZATION']:\n",
    "        m = 'ORG'\n",
    "    elif l in ['LOCATION']:\n",
    "        m = 'LOC'\n",
    "    elif l in ['PERSON']:\n",
    "        m = 'PER'\n",
    "    e['label'] = m\n",
    "    e['value'] = e.pop('text')\n",
    "    return e\n",
    "\n",
    "\n",
    "for i in range(0, 220):\n",
    "    with open('results/stanford/' + str(i) + '.json') as fp: \n",
    "        doc_json = json.load(fp)\n",
    "        answers_stanford.append([map_entity_stanford(e) for e in doc_json['entities'] if e['category'] in ['PERSON', 'ORGANIZATION', 'LOCATION']])"
   ]
  },
  {
   "cell_type": "code",
   "execution_count": 78,
   "metadata": {},
   "outputs": [
    {
     "data": {
      "text/plain": [
       "[{'label': 'PER', 'value': 'Abhishek Jha'},\n",
       " {'label': 'LOC', 'value': 'Karnataka'},\n",
       " {'label': 'LOC', 'value': 'Bangalore Karnataka'},\n",
       " {'label': 'LOC', 'value': 'Hubli Karnataka'},\n",
       " {'label': 'ORG', 'value': 'Mac Non'}]"
      ]
     },
     "execution_count": 78,
     "metadata": {},
     "output_type": "execute_result"
    }
   ],
   "source": [
    "answers_stanford[0]"
   ]
  },
  {
   "cell_type": "code",
   "execution_count": 136,
   "metadata": {},
   "outputs": [],
   "source": [
    "import pandas as pd\n",
    "df = pd.DataFrame(columns = ['Document', 'AnswerType', 'Label', 'Value'])\n",
    "for i, a in enumerate(answers_gold):\n",
    "    for e in a:\n",
    "        df = df.append({'Document': i, 'AnswerType': 'Gold', 'Label': e['label'], 'Value':e['value']}, ignore_index=True)\n",
    "for i, a in enumerate(answers_azure):\n",
    "    for e in a:\n",
    "        df = df.append({'Document': i, 'AnswerType': 'Azure', 'Label': e['label'], 'Value':e['value']}, ignore_index=True)\n",
    "for i, a in enumerate(answers_amazon):\n",
    "    for e in a:\n",
    "        df = df.append({'Document': i, 'AnswerType': 'Amazon', 'Label': e['label'], 'Value':e['value']}, ignore_index=True)\n",
    "for i, a in enumerate(answers_google):\n",
    "    for e in a:\n",
    "        df = df.append({'Document': i, 'AnswerType': 'Google', 'Label': e['label'], 'Value':e['value']}, ignore_index=True)\n",
    "for i, a in enumerate(answers_stanford):\n",
    "    for e in a:\n",
    "        df = df.append({'Document': i, 'AnswerType': 'Stanford', 'Label': e['label'], 'Value':e['value']}, ignore_index=True)\n",
    "for i, a in enumerate(answers_spacy):\n",
    "    for e in a:\n",
    "        df = df.append({'Document': i, 'AnswerType': 'SpaCy', 'Label': e['label'], 'Value':e['value']}, ignore_index=True)\n",
    "\n",
    "\n"
   ]
  },
  {
   "cell_type": "code",
   "execution_count": 137,
   "metadata": {},
   "outputs": [],
   "source": [
    "df.to_csv('results.csv', encoding='utf-8')"
   ]
  },
  {
   "cell_type": "code",
   "execution_count": 138,
   "metadata": {},
   "outputs": [],
   "source": [
    "def calculate_stats(gold, extracted):\n",
    "    stats = {'PER':{'TP':0, 'FP':0, 'FN':0}, 'ORG':{'TP':0, 'FP':0, 'FN':0}, 'LOC':{'TP':0, 'FP':0, 'FN':0}}\n",
    "    for i in range(0, len(gold)):\n",
    "        answers_gold = set([(r['label'], r['value']) for r in gold[i]])\n",
    "        answers_extracted = set([(r['label'], r['value']) for r in extracted[i]])\n",
    "        tp = answers_gold.intersection(answers_extracted)\n",
    "        fn = answers_gold.difference(answers_extracted)\n",
    "        fp = answers_extracted.difference(answers_gold)\n",
    "        for r in tp:\n",
    "            stats[r[0]]['TP'] = stats[r[0]]['TP'] + 1\n",
    "        for r in fn:\n",
    "            stats[r[0]]['FN'] = stats[r[0]]['FN'] + 1\n",
    "        for r in fp:\n",
    "            stats[r[0]]['FP'] = stats[r[0]]['FP'] + 1\n",
    "    for k in stats.keys():\n",
    "        stats[k]['P'] = stats[k]['TP'] / (stats[k]['TP'] + stats[k]['FP'])\n",
    "        stats[k]['R'] = stats[k]['TP'] / (stats[k]['TP'] + stats[k]['FN'])\n",
    "        stats[k]['F1'] = 2 * (stats[k]['P'] * stats[k]['R']) / (stats[k]['P'] + stats[k]['R']) \n",
    "    return stats\n"
   ]
  },
  {
   "cell_type": "code",
   "execution_count": 140,
   "metadata": {},
   "outputs": [
    {
     "data": {
      "text/plain": [
       "{'PER': {'TP': 68,\n",
       "  'FP': 122,\n",
       "  'FN': 150,\n",
       "  'P': 0.35789473684210527,\n",
       "  'R': 0.3119266055045872,\n",
       "  'F1': 0.3333333333333333},\n",
       " 'ORG': {'TP': 27,\n",
       "  'FP': 772,\n",
       "  'FN': 505,\n",
       "  'P': 0.03379224030037547,\n",
       "  'R': 0.05075187969924812,\n",
       "  'F1': 0.0405709992486852},\n",
       " 'LOC': {'TP': 98,\n",
       "  'FP': 737,\n",
       "  'FN': 105,\n",
       "  'P': 0.11736526946107785,\n",
       "  'R': 0.4827586206896552,\n",
       "  'F1': 0.18882466281310212}}"
      ]
     },
     "execution_count": 140,
     "metadata": {},
     "output_type": "execute_result"
    }
   ],
   "source": [
    "calculate_stats(answers_gold, answers_azure)"
   ]
  },
  {
   "cell_type": "code",
   "execution_count": 141,
   "metadata": {},
   "outputs": [
    {
     "data": {
      "text/plain": [
       "{'PER': {'TP': 180,\n",
       "  'FP': 168,\n",
       "  'FN': 38,\n",
       "  'P': 0.5172413793103449,\n",
       "  'R': 0.8256880733944955,\n",
       "  'F1': 0.6360424028268551},\n",
       " 'ORG': {'TP': 195,\n",
       "  'FP': 1979,\n",
       "  'FN': 337,\n",
       "  'P': 0.08969641214351426,\n",
       "  'R': 0.36654135338345867,\n",
       "  'F1': 0.14412416851441243},\n",
       " 'LOC': {'TP': 44,\n",
       "  'FP': 978,\n",
       "  'FN': 159,\n",
       "  'P': 0.043052837573385516,\n",
       "  'R': 0.21674876847290642,\n",
       "  'F1': 0.07183673469387755}}"
      ]
     },
     "execution_count": 141,
     "metadata": {},
     "output_type": "execute_result"
    }
   ],
   "source": [
    "calculate_stats(answers_gold, answers_amazon)"
   ]
  },
  {
   "cell_type": "code",
   "execution_count": 142,
   "metadata": {},
   "outputs": [
    {
     "data": {
      "text/plain": [
       "{'PER': {'TP': 69,\n",
       "  'FP': 2058,\n",
       "  'FN': 149,\n",
       "  'P': 0.03244005641748942,\n",
       "  'R': 0.3165137614678899,\n",
       "  'F1': 0.058848614072494664},\n",
       " 'ORG': {'TP': 165,\n",
       "  'FP': 3335,\n",
       "  'FN': 367,\n",
       "  'P': 0.047142857142857146,\n",
       "  'R': 0.3101503759398496,\n",
       "  'F1': 0.0818452380952381},\n",
       " 'LOC': {'TP': 133,\n",
       "  'FP': 1478,\n",
       "  'FN': 70,\n",
       "  'P': 0.08255741775294848,\n",
       "  'R': 0.6551724137931034,\n",
       "  'F1': 0.1466372657111356}}"
      ]
     },
     "execution_count": 142,
     "metadata": {},
     "output_type": "execute_result"
    }
   ],
   "source": [
    "calculate_stats(answers_gold, answers_google)"
   ]
  },
  {
   "cell_type": "code",
   "execution_count": 143,
   "metadata": {},
   "outputs": [
    {
     "data": {
      "text/plain": [
       "{'PER': {'TP': 184,\n",
       "  'FP': 470,\n",
       "  'FN': 34,\n",
       "  'P': 0.28134556574923547,\n",
       "  'R': 0.8440366972477065,\n",
       "  'F1': 0.42201834862385323},\n",
       " 'ORG': {'TP': 157,\n",
       "  'FP': 6030,\n",
       "  'FN': 375,\n",
       "  'P': 0.025375787942459996,\n",
       "  'R': 0.2951127819548872,\n",
       "  'F1': 0.04673314481321625},\n",
       " 'LOC': {'TP': 143,\n",
       "  'FP': 795,\n",
       "  'FN': 60,\n",
       "  'P': 0.15245202558635396,\n",
       "  'R': 0.7044334975369458,\n",
       "  'F1': 0.2506573181419807}}"
      ]
     },
     "execution_count": 143,
     "metadata": {},
     "output_type": "execute_result"
    }
   ],
   "source": [
    "calculate_stats(answers_gold, answers_spacy)"
   ]
  },
  {
   "cell_type": "code",
   "execution_count": 144,
   "metadata": {},
   "outputs": [
    {
     "data": {
      "text/plain": [
       "{'PER': {'TP': 57,\n",
       "  'FP': 268,\n",
       "  'FN': 161,\n",
       "  'P': 0.1753846153846154,\n",
       "  'R': 0.26146788990825687,\n",
       "  'F1': 0.2099447513812155},\n",
       " 'ORG': {'TP': 84,\n",
       "  'FP': 2169,\n",
       "  'FN': 448,\n",
       "  'P': 0.037283621837549935,\n",
       "  'R': 0.15789473684210525,\n",
       "  'F1': 0.06032315978456014},\n",
       " 'LOC': {'TP': 27,\n",
       "  'FP': 851,\n",
       "  'FN': 176,\n",
       "  'P': 0.030751708428246014,\n",
       "  'R': 0.1330049261083744,\n",
       "  'F1': 0.04995374653098982}}"
      ]
     },
     "execution_count": 144,
     "metadata": {},
     "output_type": "execute_result"
    }
   ],
   "source": [
    "calculate_stats(answers_gold, answers_stanford)"
   ]
  }
 ],
 "metadata": {
  "kernelspec": {
   "display_name": "Python 3",
   "language": "python",
   "name": "python3"
  },
  "language_info": {
   "codemirror_mode": {
    "name": "ipython",
    "version": 3
   },
   "file_extension": ".py",
   "mimetype": "text/x-python",
   "name": "python",
   "nbconvert_exporter": "python",
   "pygments_lexer": "ipython3",
   "version": "3.8.5"
  }
 },
 "nbformat": 4,
 "nbformat_minor": 4
}
